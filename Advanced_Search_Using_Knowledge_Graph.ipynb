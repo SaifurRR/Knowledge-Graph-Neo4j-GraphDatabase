{
  "nbformat": 4,
  "nbformat_minor": 0,
  "metadata": {
    "colab": {
      "provenance": []
    },
    "kernelspec": {
      "name": "python3",
      "display_name": "Python 3"
    },
    "language_info": {
      "name": "python"
    }
  },
  "cells": [
    {
      "cell_type": "code",
      "execution_count": null,
      "metadata": {
        "colab": {
          "base_uri": "https://localhost:8080/"
        },
        "id": "f_FXy1AZjDNy",
        "outputId": "22cd4cc0-fef3-483a-9d6e-b73efcfa0d3a"
      },
      "outputs": [
        {
          "output_type": "stream",
          "name": "stdout",
          "text": [
            "Requirement already satisfied: rdflib in /usr/local/lib/python3.10/dist-packages (7.0.0)\n",
            "Requirement already satisfied: isodate<0.7.0,>=0.6.0 in /usr/local/lib/python3.10/dist-packages (from rdflib) (0.6.1)\n",
            "Requirement already satisfied: pyparsing<4,>=2.1.0 in /usr/local/lib/python3.10/dist-packages (from rdflib) (3.1.1)\n",
            "Requirement already satisfied: six in /usr/local/lib/python3.10/dist-packages (from isodate<0.7.0,>=0.6.0->rdflib) (1.16.0)\n"
          ]
        }
      ],
      "source": [
        "pip install rdflib"
      ]
    },
    {
      "cell_type": "code",
      "source": [
        "from rdflib import Graph, URIRef\n",
        "\n",
        "# Create a knowledge graph\n",
        "cybersecurity_graph = Graph()\n",
        "\n",
        "# Define namespaces\n",
        "ex = URIRef(\"http://example.org/\")\n",
        "\n",
        "# Add triples to represent cybersecurity relationships\n",
        "cybersecurity_graph.add((ex.Vulnerability, ex.type, ex.Class))\n",
        "cybersecurity_graph.add((ex.Threat, ex.type, ex.Class))\n",
        "cybersecurity_graph.add((ex.Asset, ex.type, ex.Class))\n",
        "cybersecurity_graph.add((ex.Mitigation, ex.type, ex.Class))\n",
        "\n",
        "# Relationships between entities\n",
        "cybersecurity_graph.add((ex.Vulnerability, ex.hasMitigation, ex.Mitigation))\n",
        "cybersecurity_graph.add((ex.Asset, ex.isAffectedBy, ex.Vulnerability))\n",
        "cybersecurity_graph.add((ex.Threat, ex.targets, ex.Asset))\n",
        "\n",
        "# Example data\n",
        "cybersecurity_graph.add((ex.CVE_2022_1234, ex.type, ex.Vulnerability))\n",
        "cybersecurity_graph.add((ex.CVE_2022_1234, ex.hasMitigation, ex.Patch123))\n",
        "cybersecurity_graph.add((ex.Server, ex.type, ex.Asset))\n",
        "cybersecurity_graph.add((ex.HackerGroupA, ex.type, ex.Threat))\n",
        "cybersecurity_graph.add((ex.HackerGroupA, ex.targets, ex.Server))\n",
        "\n",
        "# Query the knowledge graph\n",
        "def advanced_search(graph, criteria):\n",
        "    results = set()\n",
        "\n",
        "    # Iterate over criteria\n",
        "    for criterion in criteria:\n",
        "        for s, p, o in graph.triples((None, None, None)):\n",
        "            if criterion in (str(s), str(p), str(o)):\n",
        "                results.add(s)\n",
        "\n",
        "    return results\n",
        "\n",
        "# Example advanced search criteria\n",
        "search_criteria = [\"Server\", \"isAffectedBy\", \"Vulnerability\"]\n",
        "\n",
        "# Perform advanced search\n",
        "search_results = advanced_search(cybersecurity_graph, search_criteria)\n",
        "\n",
        "# Display search results\n",
        "print(\"Search Results:\")\n",
        "for result in search_results:\n",
        "    print(result)\n"
      ],
      "metadata": {
        "colab": {
          "base_uri": "https://localhost:8080/",
          "height": 245
        },
        "id": "KT0Zp2gwjDp-",
        "outputId": "758e75c7-6538-4768-9775-f282e83f331b"
      },
      "execution_count": null,
      "outputs": [
        {
          "output_type": "error",
          "ename": "AttributeError",
          "evalue": "'URIRef' object has no attribute 'Vulnerability'",
          "traceback": [
            "\u001b[0;31m---------------------------------------------------------------------------\u001b[0m",
            "\u001b[0;31mAttributeError\u001b[0m                            Traceback (most recent call last)",
            "\u001b[0;32m<ipython-input-10-49325289205b>\u001b[0m in \u001b[0;36m<cell line: 10>\u001b[0;34m()\u001b[0m\n\u001b[1;32m      8\u001b[0m \u001b[0;34m\u001b[0m\u001b[0m\n\u001b[1;32m      9\u001b[0m \u001b[0;31m# Add triples to represent cybersecurity relationships\u001b[0m\u001b[0;34m\u001b[0m\u001b[0;34m\u001b[0m\u001b[0m\n\u001b[0;32m---> 10\u001b[0;31m \u001b[0mcybersecurity_graph\u001b[0m\u001b[0;34m.\u001b[0m\u001b[0madd\u001b[0m\u001b[0;34m(\u001b[0m\u001b[0;34m(\u001b[0m\u001b[0mex\u001b[0m\u001b[0;34m.\u001b[0m\u001b[0mVulnerability\u001b[0m\u001b[0;34m,\u001b[0m \u001b[0mex\u001b[0m\u001b[0;34m.\u001b[0m\u001b[0mtype\u001b[0m\u001b[0;34m,\u001b[0m \u001b[0mex\u001b[0m\u001b[0;34m.\u001b[0m\u001b[0mClass\u001b[0m\u001b[0;34m)\u001b[0m\u001b[0;34m)\u001b[0m\u001b[0;34m\u001b[0m\u001b[0;34m\u001b[0m\u001b[0m\n\u001b[0m\u001b[1;32m     11\u001b[0m \u001b[0mcybersecurity_graph\u001b[0m\u001b[0;34m.\u001b[0m\u001b[0madd\u001b[0m\u001b[0;34m(\u001b[0m\u001b[0;34m(\u001b[0m\u001b[0mex\u001b[0m\u001b[0;34m.\u001b[0m\u001b[0mThreat\u001b[0m\u001b[0;34m,\u001b[0m \u001b[0mex\u001b[0m\u001b[0;34m.\u001b[0m\u001b[0mtype\u001b[0m\u001b[0;34m,\u001b[0m \u001b[0mex\u001b[0m\u001b[0;34m.\u001b[0m\u001b[0mClass\u001b[0m\u001b[0;34m)\u001b[0m\u001b[0;34m)\u001b[0m\u001b[0;34m\u001b[0m\u001b[0;34m\u001b[0m\u001b[0m\n\u001b[1;32m     12\u001b[0m \u001b[0mcybersecurity_graph\u001b[0m\u001b[0;34m.\u001b[0m\u001b[0madd\u001b[0m\u001b[0;34m(\u001b[0m\u001b[0;34m(\u001b[0m\u001b[0mex\u001b[0m\u001b[0;34m.\u001b[0m\u001b[0mAsset\u001b[0m\u001b[0;34m,\u001b[0m \u001b[0mex\u001b[0m\u001b[0;34m.\u001b[0m\u001b[0mtype\u001b[0m\u001b[0;34m,\u001b[0m \u001b[0mex\u001b[0m\u001b[0;34m.\u001b[0m\u001b[0mClass\u001b[0m\u001b[0;34m)\u001b[0m\u001b[0;34m)\u001b[0m\u001b[0;34m\u001b[0m\u001b[0;34m\u001b[0m\u001b[0m\n",
            "\u001b[0;31mAttributeError\u001b[0m: 'URIRef' object has no attribute 'Vulnerability'"
          ]
        }
      ]
    },
    {
      "cell_type": "code",
      "source": [],
      "metadata": {
        "id": "sIApY94GjG6n"
      },
      "execution_count": null,
      "outputs": []
    },
    {
      "cell_type": "code",
      "source": [],
      "metadata": {
        "id": "wGwVFK7xjDwL"
      },
      "execution_count": null,
      "outputs": []
    }
  ]
}