{
  "nbformat": 4,
  "nbformat_minor": 0,
  "metadata": {
    "colab": {
      "provenance": []
    },
    "kernelspec": {
      "name": "python3",
      "display_name": "Python 3"
    },
    "language_info": {
      "name": "python"
    }
  },
  "cells": [
    {
      "cell_type": "code",
      "source": [
        "!  pip install dash dash-cytoscape networkx"
      ],
      "metadata": {
        "colab": {
          "base_uri": "https://localhost:8080/"
        },
        "id": "auB777DvsAuE",
        "outputId": "ccc850fd-7f1f-47e7-d761-a618ea72a917"
      },
      "execution_count": null,
      "outputs": [
        {
          "output_type": "stream",
          "name": "stdout",
          "text": [
            "Collecting dash\n",
            "  Downloading dash-2.14.2-py3-none-any.whl (10.2 MB)\n",
            "\u001b[2K     \u001b[90m━━━━━━━━━━━━━━━━━━━━━━━━━━━━━━━━━━━━━━━━\u001b[0m \u001b[32m10.2/10.2 MB\u001b[0m \u001b[31m35.6 MB/s\u001b[0m eta \u001b[36m0:00:00\u001b[0m\n",
            "\u001b[?25hCollecting dash-cytoscape\n",
            "  Downloading dash_cytoscape-0.3.0-py3-none-any.whl (3.6 MB)\n",
            "\u001b[2K     \u001b[90m━━━━━━━━━━━━━━━━━━━━━━━━━━━━━━━━━━━━━━━━\u001b[0m \u001b[32m3.6/3.6 MB\u001b[0m \u001b[31m88.8 MB/s\u001b[0m eta \u001b[36m0:00:00\u001b[0m\n",
            "\u001b[?25hRequirement already satisfied: networkx in /usr/local/lib/python3.10/dist-packages (3.2.1)\n",
            "Requirement already satisfied: Flask<3.1,>=1.0.4 in /usr/local/lib/python3.10/dist-packages (from dash) (2.2.5)\n",
            "Requirement already satisfied: Werkzeug<3.1 in /usr/local/lib/python3.10/dist-packages (from dash) (3.0.1)\n",
            "Requirement already satisfied: plotly>=5.0.0 in /usr/local/lib/python3.10/dist-packages (from dash) (5.15.0)\n",
            "Collecting dash-html-components==2.0.0 (from dash)\n",
            "  Downloading dash_html_components-2.0.0-py3-none-any.whl (4.1 kB)\n",
            "Collecting dash-core-components==2.0.0 (from dash)\n",
            "  Downloading dash_core_components-2.0.0-py3-none-any.whl (3.8 kB)\n",
            "Collecting dash-table==5.0.0 (from dash)\n",
            "  Downloading dash_table-5.0.0-py3-none-any.whl (3.9 kB)\n",
            "Requirement already satisfied: typing-extensions>=4.1.1 in /usr/local/lib/python3.10/dist-packages (from dash) (4.5.0)\n",
            "Requirement already satisfied: requests in /usr/local/lib/python3.10/dist-packages (from dash) (2.31.0)\n",
            "Collecting retrying (from dash)\n",
            "  Downloading retrying-1.3.4-py3-none-any.whl (11 kB)\n",
            "Collecting ansi2html (from dash)\n",
            "  Downloading ansi2html-1.9.1-py3-none-any.whl (17 kB)\n",
            "Requirement already satisfied: nest-asyncio in /usr/local/lib/python3.10/dist-packages (from dash) (1.5.8)\n",
            "Requirement already satisfied: setuptools in /usr/local/lib/python3.10/dist-packages (from dash) (67.7.2)\n",
            "Requirement already satisfied: importlib-metadata in /usr/local/lib/python3.10/dist-packages (from dash) (7.0.1)\n",
            "Requirement already satisfied: Jinja2>=3.0 in /usr/local/lib/python3.10/dist-packages (from Flask<3.1,>=1.0.4->dash) (3.1.3)\n",
            "Requirement already satisfied: itsdangerous>=2.0 in /usr/local/lib/python3.10/dist-packages (from Flask<3.1,>=1.0.4->dash) (2.1.2)\n",
            "Requirement already satisfied: click>=8.0 in /usr/local/lib/python3.10/dist-packages (from Flask<3.1,>=1.0.4->dash) (8.1.7)\n",
            "Requirement already satisfied: tenacity>=6.2.0 in /usr/local/lib/python3.10/dist-packages (from plotly>=5.0.0->dash) (8.2.3)\n",
            "Requirement already satisfied: packaging in /usr/local/lib/python3.10/dist-packages (from plotly>=5.0.0->dash) (23.2)\n",
            "Requirement already satisfied: MarkupSafe>=2.1.1 in /usr/local/lib/python3.10/dist-packages (from Werkzeug<3.1->dash) (2.1.3)\n",
            "Requirement already satisfied: zipp>=0.5 in /usr/local/lib/python3.10/dist-packages (from importlib-metadata->dash) (3.17.0)\n",
            "Requirement already satisfied: charset-normalizer<4,>=2 in /usr/local/lib/python3.10/dist-packages (from requests->dash) (3.3.2)\n",
            "Requirement already satisfied: idna<4,>=2.5 in /usr/local/lib/python3.10/dist-packages (from requests->dash) (3.6)\n",
            "Requirement already satisfied: urllib3<3,>=1.21.1 in /usr/local/lib/python3.10/dist-packages (from requests->dash) (2.0.7)\n",
            "Requirement already satisfied: certifi>=2017.4.17 in /usr/local/lib/python3.10/dist-packages (from requests->dash) (2023.11.17)\n",
            "Requirement already satisfied: six>=1.7.0 in /usr/local/lib/python3.10/dist-packages (from retrying->dash) (1.16.0)\n",
            "Installing collected packages: dash-table, dash-html-components, dash-core-components, retrying, ansi2html, dash, dash-cytoscape\n",
            "Successfully installed ansi2html-1.9.1 dash-2.14.2 dash-core-components-2.0.0 dash-cytoscape-0.3.0 dash-html-components-2.0.0 dash-table-5.0.0 retrying-1.3.4\n"
          ]
        }
      ]
    },
    {
      "cell_type": "code",
      "execution_count": null,
      "metadata": {
        "colab": {
          "base_uri": "https://localhost:8080/",
          "height": 671
        },
        "id": "hq65j4tVrlwX",
        "outputId": "c24515bf-9b98-45ff-912c-6bf617dbdd01"
      },
      "outputs": [
        {
          "output_type": "display_data",
          "data": {
            "text/plain": [
              "<IPython.core.display.Javascript object>"
            ],
            "application/javascript": [
              "(async (port, path, width, height, cache, element) => {\n",
              "    if (!google.colab.kernel.accessAllowed && !cache) {\n",
              "      return;\n",
              "    }\n",
              "    element.appendChild(document.createTextNode(''));\n",
              "    const url = await google.colab.kernel.proxyPort(port, {cache});\n",
              "    const iframe = document.createElement('iframe');\n",
              "    iframe.src = new URL(path, url).toString();\n",
              "    iframe.height = height;\n",
              "    iframe.width = width;\n",
              "    iframe.style.border = 0;\n",
              "    iframe.allow = [\n",
              "        'accelerometer',\n",
              "        'autoplay',\n",
              "        'camera',\n",
              "        'clipboard-read',\n",
              "        'clipboard-write',\n",
              "        'gyroscope',\n",
              "        'magnetometer',\n",
              "        'microphone',\n",
              "        'serial',\n",
              "        'usb',\n",
              "        'xr-spatial-tracking',\n",
              "    ].join('; ');\n",
              "    element.appendChild(iframe);\n",
              "  })(8050, \"/\", \"100%\", 650, false, window.element)"
            ]
          },
          "metadata": {}
        }
      ],
      "source": [
        "# Install required libraries\n",
        "# pip install dash dash-cytoscape networkx\n",
        "\n",
        "import dash\n",
        "from dash import dcc, html\n",
        "from dash.dependencies import Input, Output\n",
        "import networkx as nx\n",
        "from dash_cytoscape import Cytoscape\n",
        "\n",
        "# Create a sample knowledge graph\n",
        "G = nx.DiGraph()\n",
        "G.add_nodes_from([\n",
        "    ('NodeA', {'label': 'Entity A'}),\n",
        "    ('NodeB', {'label': 'Entity B'}),\n",
        "    ('NodeC', {'label': 'Entity C'}),\n",
        "])\n",
        "G.add_edges_from([\n",
        "    ('NodeA', 'NodeB', {'label': 'Relation 1'}),\n",
        "    ('NodeB', 'NodeC', {'label': 'Relation 2'}),\n",
        "])\n",
        "\n",
        "# Create Dash app\n",
        "app = dash.Dash(__name__)\n",
        "\n",
        "# Define app layout\n",
        "app.layout = html.Div([\n",
        "    dcc.Input(id='search-bar', type='text', value='', placeholder='Search...'),\n",
        "    Cytoscape(\n",
        "        id='graph',\n",
        "        layout={'name': 'dagre'},\n",
        "        style={'width': '100%', 'height': '800px'},\n",
        "        elements=nx.readwrite.json_graph.cytoscape_data(G)['elements'],\n",
        "        stylesheet=[\n",
        "            {\n",
        "                'selector': 'node',\n",
        "                'style': {\n",
        "                    'content': 'data(label)',\n",
        "                    'text-valign': 'center',\n",
        "                    'color': 'white',\n",
        "                    'text-outline-width': 2,\n",
        "                    'text-outline-color': '#888'\n",
        "                }\n",
        "            },\n",
        "            {\n",
        "                'selector': 'edge',\n",
        "                'style': {\n",
        "                    'label': 'data(label)',\n",
        "                    'width': 2,\n",
        "                    'line-color': '#ccc',\n",
        "                    'target-arrow-color': '#ccc',\n",
        "                    'target-arrow-shape': 'triangle'\n",
        "                }\n",
        "            }\n",
        "        ]\n",
        "    )\n",
        "])\n",
        "\n",
        "# Define callback to update graph based on search input\n",
        "@app.callback(\n",
        "    Output('graph', 'elements'),\n",
        "    [Input('search-bar', 'value')]\n",
        ")\n",
        "def update_graph(search_query):\n",
        "    # Perform graph filtering based on search query\n",
        "    filtered_graph = filter_graph(G, search_query)\n",
        "    elements = nx.readwrite.json_graph.cytoscape_data(filtered_graph)['elements']\n",
        "    return elements\n",
        "\n",
        "# Helper function to filter the graph based on search query\n",
        "def filter_graph(graph, search_query):\n",
        "    # Implement your filtering logic here\n",
        "    # For simplicity, this example only filters nodes based on the node label\n",
        "    filtered_nodes = [node for node, data in graph.nodes(data=True) if search_query.lower() in data.get('label', '').lower()]\n",
        "    return graph.subgraph(filtered_nodes)\n",
        "\n",
        "# Run the app\n",
        "if __name__ == '__main__':\n",
        "    app.run_server(debug=True)\n"
      ]
    },
    {
      "cell_type": "code",
      "source": [],
      "metadata": {
        "id": "1_eZYk_SsEez"
      },
      "execution_count": null,
      "outputs": []
    }
  ]
}